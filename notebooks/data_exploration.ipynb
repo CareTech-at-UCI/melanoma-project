{
 "cells": [
  {
   "cell_type": "code",
   "execution_count": 2,
   "metadata": {},
   "outputs": [],
   "source": [
    "import os\n",
    "import numpy as np # linear algebra\n",
    "import matplotlib.pyplot as plt\n",
    "import pandas as pd # data processing, CSV file I/O (e.g. pd.read_csv)\n",
    "import cv2\n",
    "\n",
    "from sklearn.utils import resample\n",
    "import albumentations as A\n",
    "\n"
   ]
  },
  {
   "cell_type": "code",
   "execution_count": 95,
   "metadata": {},
   "outputs": [],
   "source": [
    "# Current Issues:\n",
    "# 1. Add oversampling to augmentation\n",
    "# 2. Add a combination of both oversampling and undersampling\n",
    "# 3. Figure out some more preprocessing techniques/augmented images (if possible, if not then oh well)\n",
    "# 4. Start creating the model and training it\n",
    "# 5. Sleep"
   ]
  },
  {
   "cell_type": "code",
   "execution_count": 4,
   "metadata": {},
   "outputs": [
    {
     "name": "stdout",
     "output_type": "stream",
     "text": [
      "Found training labels\n",
      "Found testing labels\n",
      "Training data:  25331\n",
      "Testing data:  1592\n",
      "Training labels:  25331\n",
      "Testing labels:  8238\n"
     ]
    }
   ],
   "source": [
    "# -isic_2019\n",
    "#   -ISIC_2019_Training_Input\n",
    "#       -ISIC_2019_Training_GroundTruth.csv\n",
    "#       -ISIC_2019_Training_Input\n",
    "#           -images\n",
    "#   -ISIC_2019_Test_Input\n",
    "#       -ISIC_2019_Test_GroundTruth.csv\n",
    "#       -ISIC_2019_Test_Input\n",
    "#           -images\n",
    "\n",
    "training_path = \"../isic_2019/ISIC_2019_Training_Input/ISIC_2019_Training_Input\"\n",
    "testing_path = \"../isic_2019/ISIC_2019_Test_Input/ISIC_2019_Test_Input\"\n",
    "\n",
    "training_labels_path = \"../isic_2019/ISIC_2019_Training_Input/ISIC_2019_Training_GroundTruth.csv\"\n",
    "testing_labels_path = \"../isic_2019/ISIC_2019_Test_Input/ISIC_2019_Test_GroundTruth.csv\"\n",
    "\n",
    "training_labels = pd.read_csv(training_labels_path)\n",
    "print(\"Found training labels\")\n",
    "testing_labels = pd.read_csv(testing_labels_path)\n",
    "print(\"Found testing labels\")\n",
    "\n",
    "def load_data(path):\n",
    "    data = []\n",
    "    for filename in os.listdir(path):\n",
    "        if filename.endswith(\".jpg\"):\n",
    "            data.append(filename)\n",
    "    return data\n",
    "\n",
    "training_data = load_data(training_path)\n",
    "print(\"Training data: \", len(training_data))\n",
    "testing_data = load_data(testing_path)\n",
    "print(\"Testing data: \", len(testing_data))\n",
    "\n",
    "print(\"Training labels: \", len(training_labels))\n",
    "print(\"Testing labels: \", len(testing_labels))\n"
   ]
  },
  {
   "cell_type": "code",
   "execution_count": 5,
   "metadata": {},
   "outputs": [
    {
     "name": "stdout",
     "output_type": "stream",
     "text": [
      "Training labels preview:\n",
      "          image  MEL   NV  BCC   AK  BKL   DF  VASC  SCC  UNK\n",
      "0  ISIC_0000000  0.0  1.0  0.0  0.0  0.0  0.0   0.0  0.0  0.0\n",
      "1  ISIC_0000001  0.0  1.0  0.0  0.0  0.0  0.0   0.0  0.0  0.0\n",
      "2  ISIC_0000002  1.0  0.0  0.0  0.0  0.0  0.0   0.0  0.0  0.0\n",
      "3  ISIC_0000003  0.0  1.0  0.0  0.0  0.0  0.0   0.0  0.0  0.0\n",
      "4  ISIC_0000004  1.0  0.0  0.0  0.0  0.0  0.0   0.0  0.0  0.0\n",
      "Melanoma images: 4522\n",
      "Non-Melanoma images: 20809\n",
      "MEL\n",
      "0.0    82.148356\n",
      "1.0    17.851644\n",
      "Name: proportion, dtype: float64\n"
     ]
    }
   ],
   "source": [
    "# Verify extracted data\n",
    "\n",
    "\n",
    "df = training_labels\n",
    "print(\"Training labels preview:\")\n",
    "print(df.head())\n",
    "\n",
    "\n",
    "# Peek of MEL column and NON-MEL values\n",
    "melanoma_count = df[df[\"MEL\"] == 1].shape[0]\n",
    "non_melanoma_count = df[df[\"MEL\"] == 0].shape[0]\n",
    "\n",
    "# Printing the counts\n",
    "print(f\"Melanoma images: {melanoma_count}\")\n",
    "print(f\"Non-Melanoma images: {non_melanoma_count}\")\n",
    "\n",
    "# Get overall class distribution\n",
    "print(df[\"MEL\"].value_counts(normalize=True) * 100)  # Shows % distribution\n"
   ]
  },
  {
   "cell_type": "code",
   "execution_count": 98,
   "metadata": {},
   "outputs": [
    {
     "data": {
      "text/plain": [
       "'\\nMEL: Melanoma\\nNV: Melanocytic nevus\\nBCC: Basal cell carcinoma\\nAK: Actinic keratosis\\nBKL: Benign keratosis (solar lentigo / seborrheic keratosis / lichen planus-like keratosis)\\nDF: Dermatofibroma\\nVASC: Vascular lesion\\nSCC: Squamous cell carcinoma\\nUNK: None of the above\\n'"
      ]
     },
     "execution_count": 98,
     "metadata": {},
     "output_type": "execute_result"
    }
   ],
   "source": [
    "'''\n",
    "MEL: Melanoma\n",
    "NV: Melanocytic nevus\n",
    "BCC: Basal cell carcinoma\n",
    "AK: Actinic keratosis\n",
    "BKL: Benign keratosis (solar lentigo / seborrheic keratosis / lichen planus-like keratosis)\n",
    "DF: Dermatofibroma\n",
    "VASC: Vascular lesion\n",
    "SCC: Squamous cell carcinoma\n",
    "UNK: None of the above\n",
    "'''\n"
   ]
  },
  {
   "cell_type": "code",
   "execution_count": 99,
   "metadata": {},
   "outputs": [
    {
     "data": {
      "text/plain": [
       "'\\nEnglish\\nMEL: Cancerous cells, what we are trying to detect\\nNV: mole on the skin, not cancerous\\n    - round, flat/raised, brown or black spots on the skin with smooth edges\\nBCC: type of skin cancer, not melanoma\\n    - rolled edges, pearly appearance, and visible blood vessels\\nAK: pre-cancerous skin condition, not melanoma\\n    - rough, scaly patches on sun-exposed skin\\nBKL: benign skin lesions/skin growth, not cancerous\\n    - brown or black spots on the skin, often with irregular borders\\nDF: firm skin bumps, not cancerous\\n    - small, raised, and firm nodules that are usually brown or skin-colored\\nVASC: abnormal malformation of blood vessels, not cancerous\\n    - red or purple lesions on the skin, often with a raised appearance\\nSCC: type of skin cancer, not melanoma\\n    - scaly, crusted patches or open sores that do not heal\\nUNK: unc status\\n'"
      ]
     },
     "execution_count": 99,
     "metadata": {},
     "output_type": "execute_result"
    }
   ],
   "source": [
    "'''\n",
    "English\n",
    "MEL: Cancerous cells, what we are trying to detect\n",
    "NV: mole on the skin, not cancerous\n",
    "    - round, flat/raised, brown or black spots on the skin with smooth edges\n",
    "BCC: type of skin cancer, not melanoma\n",
    "    - rolled edges, pearly appearance, and visible blood vessels\n",
    "AK: pre-cancerous skin condition, not melanoma\n",
    "    - rough, scaly patches on sun-exposed skin\n",
    "BKL: benign skin lesions/skin growth, not cancerous\n",
    "    - brown or black spots on the skin, often with irregular borders\n",
    "DF: firm skin bumps, not cancerous\n",
    "    - small, raised, and firm nodules that are usually brown or skin-colored\n",
    "VASC: abnormal malformation of blood vessels, not cancerous\n",
    "    - red or purple lesions on the skin, often with a raised appearance\n",
    "SCC: type of skin cancer, not melanoma\n",
    "    - scaly, crusted patches or open sores that do not heal\n",
    "UNK: unc status\n",
    "'''"
   ]
  },
  {
   "cell_type": "code",
   "execution_count": 100,
   "metadata": {},
   "outputs": [
    {
     "name": "stdout",
     "output_type": "stream",
     "text": [
      "Melanoma images:  4522\n",
      "Melanocytic nevus images:  12875\n",
      "Basal cell carcinoma images:  3323\n",
      "Actinic keratosis images:  867\n",
      "Benign keratosis images:  2624\n",
      "Dermatofibroma images:  239\n",
      "Vascular lesion images:  253\n",
      "Squamous cell carcinoma images:  628\n",
      "None of the above images:  0\n"
     ]
    }
   ],
   "source": [
    "print(\"Melanoma images: \", len(df[df[\"MEL\"] == 1]))\n",
    "print(\"Melanocytic nevus images: \", len(df[df[\"NV\"] == 1]))\n",
    "print(\"Basal cell carcinoma images: \", len(df[df[\"BCC\"] == 1]))\n",
    "print(\"Actinic keratosis images: \", len(df[df[\"AK\"] == 1]))\n",
    "print(\"Benign keratosis images: \", len(df[df[\"BKL\"] == 1]))\n",
    "print(\"Dermatofibroma images: \", len(df[df[\"DF\"] == 1]))\n",
    "print(\"Vascular lesion images: \", len(df[df[\"VASC\"] == 1]))\n",
    "print(\"Squamous cell carcinoma images: \", len(df[df[\"SCC\"] == 1]))\n",
    "print(\"None of the above images: \", len(df[df[\"UNK\"] == 1]))"
   ]
  },
  {
   "cell_type": "code",
   "execution_count": 6,
   "metadata": {},
   "outputs": [],
   "source": [
    "'''FILTERING'''\n",
    "# Hair removal\n",
    "def remove_hair(img):\n",
    "    #Black hat filter\n",
    "    kernel = cv2.getStructuringElement(cv2.MORPH_RECT,(7,17))\n",
    "    blackhat = cv2.morphologyEx(img, cv2.MORPH_BLACKHAT, kernel)\n",
    "    #Gaussian filter\n",
    "    bhg= cv2.GaussianBlur(blackhat,(3,3),cv2.BORDER_DEFAULT)\n",
    "    #Binary thresholding (MASK)\n",
    "    ret,mask = cv2.threshold(bhg,10,255,cv2.THRESH_BINARY)\n",
    "    #Replace pixels of the mask\n",
    "    dst = cv2.inpaint(img,mask,7,cv2.INPAINT_TELEA)\n",
    "    # plt.imshow(dst)\n",
    "    # plt.show\n",
    "    return dst\n",
    "    \n",
    "# Gray scale\n",
    "def convert_to_grayscale(image):\n",
    "    return cv2.cvtColor(image, cv2.COLOR_RGB2GRAY)\n",
    "    \n",
    "# Noise reduction\n",
    "def reduce_noise(image):\n",
    "    bilateral = cv2.bilateralFilter(image, 9, 75, 75)\n",
    "    median = cv2.medianBlur(bilateral, 5)\n",
    "    return median\n",
    "    \n",
    "# Contrast enhancement\n",
    "def enhance_contrast(image):\n",
    "    enhanced_img = (cv2.createCLAHE(clipLimit=2, tileGridSize=(8,8))).apply(image)\n",
    "    return enhanced_img\n",
    "\n",
    "# Resizing\n",
    "def resize_img(img, size=(224, 224)):\n",
    "    resized_img = cv2.resize(img, size)\n",
    "    return resized_img\n",
    "\n",
    "# Other filters (need to debug)\n",
    "\n",
    "# Edge detection\n",
    "def segment_lesion(image):\n",
    "        \n",
    "    #https://docs.opencv.org/4.x/d7/d4d/tutorial_py_thresholding.html \n",
    "    # look at Otsu binarization; very nice\n",
    "    _, thresh = cv2.threshold(image, 0, 255, cv2.THRESH_BINARY_INV + cv2.THRESH_OTSU)\n",
    "    \n",
    "    kernel = np.ones((5,5), np.uint8)\n",
    "    mask = cv2.morphologyEx(thresh, cv2.MORPH_CLOSE, kernel)\n",
    "    mask = cv2.morphologyEx(mask, cv2.MORPH_OPEN, kernel)\n",
    "    return mask\n",
    "\n",
    "def enhance_borders(image):\n",
    "\n",
    "    # https://docs.opencv.org/4.x/d2/d2c/tutorial_sobel_derivatives.html\n",
    "    sobelx = cv2.Sobel(image, cv2.CV_64F, 1, 0, ksize=3)\n",
    "    sobely = cv2.Sobel(image, cv2.CV_64F, 0, 1, ksize=3)\n",
    "    gradient = np.sqrt(sobelx**2 + sobely**2)\n",
    "    \n",
    "    gradient = np.uint8(gradient * 255 / gradient.max())\n",
    "    return gradient\n"
   ]
  },
  {
   "cell_type": "code",
   "execution_count": 102,
   "metadata": {},
   "outputs": [
    {
     "name": "stdout",
     "output_type": "stream",
     "text": [
      "Output directory already exists, deleting\n"
     ]
    }
   ],
   "source": [
    "'''PREPROCESSING'''\n",
    "import shutil\n",
    "def preprocessing(image):\n",
    "    image = cv2.imread(image)\n",
    "    image = cv2.cvtColor(image, cv2.COLOR_BGR2RGB)\n",
    "    gray = convert_to_grayscale(image)\n",
    "    hair_remove = remove_hair(gray)\n",
    "    noise_reduced = reduce_noise(hair_remove)\n",
    "    \n",
    "    contrast = enhance_contrast(noise_reduced)\n",
    "\n",
    "    # Very wonky things happen depending on specific images when trying to get specific borders\n",
    "    #mask = segment_lesion(image)   \n",
    "    # borders = enhance_borders(noise_reduced)\n",
    "    #final = cv2.bitwise_and(contrast, contrast, mask=mask)\n",
    "\n",
    "    resized = cv2.resize(contrast, (224,224))\n",
    "    return resized\n",
    "\n",
    "def preprocess_all_images(image_list, output_dir):\n",
    "    if not os.path.exists(output_dir):\n",
    "        print(\"Creating output directory\")\n",
    "        os.makedirs(output_dir)\n",
    "    elif os.path.exists(output_dir):\n",
    "        print(\"Output directory already exists, deleting\")\n",
    "        shutil.rmtree(output_dir)\n",
    "        os.makedirs(output_dir)\n",
    "    for image_name in range(len(image_list)): # <------------------------------ Change for full dataset len(image_list)\n",
    "        image_name = image_list[image_name]\n",
    "        image_path = os.path.join(training_path, image_name)\n",
    "        preprocessed_image = preprocessing(image_path)\n",
    "        output_path = os.path.join(output_dir, image_name)\n",
    "        cv2.imwrite(output_path, preprocessed_image)\n",
    "\n",
    "preprocess_all_images(training_data, \"../preprocessed_images\")"
   ]
  },
  {
   "cell_type": "code",
   "execution_count": 7,
   "metadata": {},
   "outputs": [],
   "source": [
    "'''UPDATING LABELS'''\n",
    "\n",
    "def update_labels(labels_path):\n",
    "    df = pd.read_csv(labels_path)\n",
    "    df = df[['image', 'MEL']] # Drop other columns\n",
    "    return df\n",
    "\n",
    "\n",
    "df_train_labels_updated = update_labels(training_labels_path)"
   ]
  },
  {
   "cell_type": "code",
   "execution_count": 8,
   "metadata": {},
   "outputs": [],
   "source": [
    "'''DATA AUGMENTATION'''\n",
    "\n",
    "'''UNDERSAMPLING'''\n",
    "# Simple random undersampling to achieve desired balance\n",
    "# random_state HH 88\n",
    "\n",
    "def undersample_data(df, majority_split, new_labels_path):\n",
    "    majority = df[df[\"MEL\"] == 0]\n",
    "    minority = df[df[\"MEL\"] == 1]\n",
    "\n",
    "    # Calculate size\n",
    "    # major_count = majority.shape[0]\n",
    "    minor_count = minority.shape[0]\n",
    "    size = int(minor_count // (1 - majority_split)) - minor_count\n",
    "\n",
    "    majority_undersampled = resample(majority,\n",
    "                                    replace=False,\n",
    "                                    n_samples=size,\n",
    "                                    random_state=88)\n",
    "    \n",
    "    df_undersampled = pd.concat([majority_undersampled, minority])\n",
    "    df_ordered = df_undersampled.sort_values(by=\"image\").reset_index(drop=True)\n",
    "\n",
    "    df_ordered.to_csv(new_labels_path, index=False)\n",
    "    #print(len(df_ordered))\n",
    "\n",
    "majority_split = 0.5 # XX% majority (Non-Melanoma), XX% minority (Melanoma)\n",
    "undersample_data(df_train_labels_updated, majority_split, \"../preprocessed_images/ISIC_2019_Training_GroundTruth_preprocessed.csv\")\n"
   ]
  },
  {
   "cell_type": "code",
   "execution_count": 9,
   "metadata": {},
   "outputs": [],
   "source": [
    "\n",
    "def data_augmentation():\n",
    "    transformation = A.Compose([\n",
    "        A.RandomRotate90(p=0.5),\n",
    "        A.HorizontalFlip(p=0.5),\n",
    "        A.VerticalFlip(p=0.5),\n",
    "\n",
    "        A.RandomBrightnessContrast(\n",
    "            brightness_limit=0.2,\n",
    "            contrast_limit=0.2,\n",
    "            p=0.5\n",
    "        ),\n",
    "\n",
    "        A.RandomGamma(gamma_limit=(80, 120), p=0.5),\n",
    "\n",
    "        A.GaussianBlur(blur_limit=(3, 5), p=0.3),\n",
    "    ])\n",
    "    return transformation\n",
    "\n",
    "def augment_image(image, transformation, num_augmentations=5):\n",
    "    augmented_images = []\n",
    "    # image = cv2.imread(image_path)\n",
    "    for _ in range(num_augmentations):\n",
    "        augmented = transformation(image=image)[\"image\"]\n",
    "        augmented_images.append(augmented)\n",
    "    return augmented_images\n",
    "\n",
    "def augment_data(input, output, num_augmentations=5):\n",
    "    if not os.path.exists(output):\n",
    "        os.makedirs(output)\n",
    "\n",
    "    transformation = data_augmentation()\n",
    "\n",
    "    for image_name in os.listdir(input):\n",
    "        image = os.path.join(input, image_name).replace(\"\\\\\", \"/\")\n",
    "        if image_name.endswith(\".csv\"):\n",
    "            continue\n",
    "        \n",
    "        image = cv2.imread(image)\n",
    "        image = cv2.cvtColor(image, cv2.COLOR_BGR2RGB)\n",
    "\n",
    "        augmented_images = augment_image(image, transformation, num_augmentations)\n",
    "        for i, aug_img in enumerate(augmented_images):\n",
    "            \n",
    "            base_name = os.path.basename(image_name)[:-4]\n",
    "            \n",
    "            \n",
    "            aug_filename = f\"{base_name}_aug_{i+1}.jpg\"\n",
    "            \n",
    "            \n",
    "            aug_path = os.path.join(output, aug_filename)\n",
    "            #print(aug_path)\n",
    "            \n",
    "            cv2.imwrite(aug_path, aug_img)\n",
    "\n",
    "augment_data(\"../preprocessed_images\", \"../augmented_images\", num_augmentations=3)"
   ]
  }
 ],
 "metadata": {
  "kernelspec": {
   "display_name": "Python 3",
   "language": "python",
   "name": "python3"
  },
  "language_info": {
   "codemirror_mode": {
    "name": "ipython",
    "version": 3
   },
   "file_extension": ".py",
   "mimetype": "text/x-python",
   "name": "python",
   "nbconvert_exporter": "python",
   "pygments_lexer": "ipython3",
   "version": "3.12.6"
  }
 },
 "nbformat": 4,
 "nbformat_minor": 4
}
