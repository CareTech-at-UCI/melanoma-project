{
 "cells": [
  {
   "cell_type": "markdown",
   "id": "ec2e887a",
   "metadata": {},
   "source": [
    "**Helpful resources**\n",
    "\n",
    "Sklearn train_test_split - https://scikit-learn.org/stable/modules/generated/sklearn.model_selection.train_test_split.html\n",
    "Implementing a CNN in TensorFlow & Keras - https://learnopencv.com/implementing-cnn-tensorflow-keras/\n",
    "\n",
    "**SET UP STEPS - Windows**\n",
    "# Recommeded create virtual environment\n",
    "Go to Jupyter Notebook kernels (top right)\n",
    "Select another kernel\n",
    "Python Environments\n",
    "+ Create Python Environment\n",
    "Venv\n",
    "Select Python interpreter and create\n",
    "\n",
    "# Prepare venv using terminal\n",
    "activate environment: .\\.venv\\Scripts\\activate\n",
    "\n",
    "# Installations on venv\n",
    "pip install jupyter ipykernel\n",
    "pip install matplotlib \n",
    "pip install pandas\n",
    "pip install scikit-learn\n",
    "pip install tensorflow\n",
    "\n"
   ]
  },
  {
   "cell_type": "code",
   "execution_count": null,
   "id": "a5136d6d",
   "metadata": {},
   "outputs": [
    {
     "name": "stdout",
     "output_type": "stream",
     "text": [
      "2.19.0\n"
     ]
    }
   ],
   "source": [
    "import os\n",
    "import numpy as np\n",
    "import matplotlib.pyplot as plt\n",
    "import pandas as pd\n",
    "from sklearn.model_selection import train_test_split\n",
    "import tensorflow as tf\n",
    "print(tf.__version__)"
   ]
  },
  {
   "cell_type": "code",
   "execution_count": 10,
   "id": "552f9f5b",
   "metadata": {},
   "outputs": [],
   "source": [
    "# File paths\n",
    "labels_path = \"../preprocessed_images/ISIC_2019_Training_GroundTruth_preprocessed.csv\"\n",
    "images_path = \"../augmented_images\""
   ]
  },
  {
   "cell_type": "code",
   "execution_count": 11,
   "id": "1f9bb842",
   "metadata": {},
   "outputs": [
    {
     "name": "stdout",
     "output_type": "stream",
     "text": [
      "Train set size:  7235\n",
      "Test set size:  1809\n"
     ]
    }
   ],
   "source": [
    "''' \n",
    "Create 80 - 20 train test (validation set) split\n",
    "\n",
    "stratify - Ensures class distribution is similar in both sets based on the labels\n",
    "\n",
    "'''\n",
    "df = pd.read_csv(labels_path)\n",
    "image_names = df['image'].values # X - images\n",
    "image_labels = df['MEL'].values # y - labels\n",
    "\n",
    "X_train, X_test, y_train, y_test = train_test_split(image_names, image_labels, test_size=0.2, random_state=88, stratify=image_labels)\n",
    "\n",
    "print(\"Train set size: \", len(X_train))\n",
    "print(\"Test set size: \", len(X_test))\n",
    "\n",
    "\n",
    "\n"
   ]
  },
  {
   "cell_type": "code",
   "execution_count": null,
   "id": "3a77dea6",
   "metadata": {},
   "outputs": [],
   "source": [
    "# Load images\n",
    "for image in image_names:\n",
    "    image = image + '_aug_1.jpg'\n",
    "    if not os.path.exists(os.path.join(images_path, image)):\n",
    "        print(f\"Image {image} not found in {images_path}\")"
   ]
  }
 ],
 "metadata": {
  "kernelspec": {
   "display_name": ".venv",
   "language": "python",
   "name": "python3"
  },
  "language_info": {
   "codemirror_mode": {
    "name": "ipython",
    "version": 3
   },
   "file_extension": ".py",
   "mimetype": "text/x-python",
   "name": "python",
   "nbconvert_exporter": "python",
   "pygments_lexer": "ipython3",
   "version": "3.12.6"
  }
 },
 "nbformat": 4,
 "nbformat_minor": 5
}
