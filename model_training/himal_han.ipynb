{
 "cells": [
  {
   "cell_type": "markdown",
   "id": "ec2e887a",
   "metadata": {},
   "source": [
    "Helpful resources:\n",
    "\n",
    "Sklearn train_test_split - https://scikit-learn.org/stable/modules/generated/sklearn.model_selection.train_test_split.html\n",
    "\n",
    "Implementing a CNN in TensorFlow & Keras - https://learnopencv.com/implementing-cnn-tensorflow-keras/\n"
   ]
  },
  {
   "cell_type": "code",
   "execution_count": 4,
   "id": "a5136d6d",
   "metadata": {},
   "outputs": [],
   "source": [
    "import os\n",
    "import numpy as np\n",
    "import matplotlib.pyplot as plt\n",
    "import pandas as pd\n",
    "from sklearn.model_selection import train_test_split\n"
   ]
  },
  {
   "cell_type": "code",
   "execution_count": 9,
   "id": "552f9f5b",
   "metadata": {},
   "outputs": [],
   "source": [
    "# File paths\n",
    "labels_path = \"../preprocessed_images/ISIC_2019_Training_GroundTruth_preprocessed.csv\"\n",
    "images_path = \"../augmented_images\""
   ]
  },
  {
   "cell_type": "code",
   "execution_count": null,
   "id": "1f9bb842",
   "metadata": {},
   "outputs": [
    {
     "name": "stdout",
     "output_type": "stream",
     "text": [
      "Train set size:  7235\n",
      "Test set size:  1809\n",
      "['ISIC_0055348' 'ISIC_0030579' 'ISIC_0024502' 'ISIC_0062765'\n",
      " 'ISIC_0013742_downsampled']\n"
     ]
    }
   ],
   "source": [
    "''' \n",
    "Create 80 - 20 train test (validation set) split\n",
    "\n",
    "stratify - Ensures class distribution is similar in both sets based on the labels\n",
    "\n",
    "'''\n",
    "df = pd.read_csv(labels_path)\n",
    "image_names = df['image'].values # X - images\n",
    "image_labels = df['MEL'].values # y - labels\n",
    "\n",
    "X_train, X_test, y_train, y_test = train_test_split(image_names, image_labels, test_size=0.2, random_state=88, stratify=image_labels)\n",
    "\n",
    "print(\"Train set size: \", len(X_train))\n",
    "print(\"Test set size: \", len(X_test))\n"
   ]
  }
 ],
 "metadata": {
  "kernelspec": {
   "display_name": "Python 3",
   "language": "python",
   "name": "python3"
  },
  "language_info": {
   "codemirror_mode": {
    "name": "ipython",
    "version": 3
   },
   "file_extension": ".py",
   "mimetype": "text/x-python",
   "name": "python",
   "nbconvert_exporter": "python",
   "pygments_lexer": "ipython3",
   "version": "3.12.6"
  }
 },
 "nbformat": 4,
 "nbformat_minor": 5
}
