{
 "cells": [
  {
   "cell_type": "markdown",
   "id": "4f0c9f46",
   "metadata": {},
   "source": [
    "# Melanoma Classification using CNN\n",
    "\n",
    "This notebook implements a Convolutional Neural Network (CNN) for melanoma detection using processed images."
   ]
  },
  {
   "cell_type": "code",
   "execution_count": null,
   "id": "b1893f47",
   "metadata": {},
   "outputs": [],
   "source": [
    "import os\n",
    "import numpy as np\n",
    "import pandas as pd\n",
    "import matplotlib.pyplot as plt\n",
    "import cv2\n",
    "import tensorflow as tf\n",
    "from tensorflow.keras.models import Sequential\n",
    "from tensorflow.keras.layers import Conv2D, MaxPooling2D, Flatten, Dense, Dropout\n",
    "from tensorflow.keras.layers import BatchNormalization\n",
    "from tensorflow.keras.optimizers import Adam\n",
    "from tensorflow.keras.callbacks import EarlyStopping, ReduceLROnPlateau, ModelCheckpoint\n",
    "from sklearn.model_selection import train_test_split\n",
    "from sklearn.metrics import classification_report, confusion_matrix, roc_curve, auc\n",
    "# Set random seeds for reproducibility\n",
    "from pathlib import Path\n",
    "import albumentations as A\n",
    "import random\n",
    "from sklearn.utils import shuffle\n",
    "from tensorflow.keras.applications import ResNet50V2\n",
    "import json\n",
    "np.random.seed(42)\n",
    "tf.random.set_seed(42)\n",
    "\n",
    "print(f\"TensorFlow version: {tf.__version__}\")\n",
    "print(f\"GPU Available: {tf.config.list_physical_devices()}\")"
   ]
  },
  {
   "cell_type": "markdown",
   "id": "2c035d9c",
   "metadata": {},
   "source": [
    "## 1. Load and Prepare Data\n",
    "\n",
    "We'll load the processed images for melanoma classification."
   ]
  },
  {
   "cell_type": "code",
   "execution_count": null,
   "id": "f62b93cc",
   "metadata": {},
   "outputs": [],
   "source": [
    "# Set paths\n",
    "base_path = Path('../../../')\n",
    "processed_dir = base_path / \"working\" / \"processed\"\n",
    "augmented_dir = base_path / \"working\" / \"augmented\"\n",
    "melanoma_dir = processed_dir / \"melanoma\"\n",
    "non_melanoma_dir = processed_dir / \"non_melanoma\"\n",
    "\n",
    "melanoma_augmented_dir = augmented_dir / \"melanoma\"\n",
    "non_melanoma_augmented_dir = augmented_dir / \"non_melanoma\""
   ]
  },
  {
   "cell_type": "code",
   "execution_count": null,
   "id": "6c7db491",
   "metadata": {},
   "outputs": [],
   "source": [
    "# Function to load images from directories\n",
    "def load_images_from_directory(directory, label):\n",
    "    images = []\n",
    "    labels = []\n",
    "\n",
    "    if not os.path.exists(directory):\n",
    "        print(f\"Warning: Directory {directory} does not exist!\")\n",
    "        return images, labels\n",
    "\n",
    "    for filename in os.listdir(directory):\n",
    "        if filename.endswith('.jpg'): # Assuming images are JPG, adjust if other formats are present\n",
    "            img_path = os.path.join(directory, filename)\n",
    "            try:\n",
    "                img = cv2.imread(img_path, cv2.IMREAD_COLOR)\n",
    "                if img is not None:\n",
    "                    images.append(img)\n",
    "                    labels.append(label)\n",
    "                else:\n",
    "                    print(f\"Warning: Could not read image {img_path}. It might be corrupted or not a valid image file.\")\n",
    "            except Exception as e:\n",
    "                print(f\"Error processing image {img_path}: {e}\")\n",
    "\n",
    "    return images, labels\n",
    "\n",
    "\n",
    "# Load melanoma and non-melanoma images\n",
    "print(\"Loading melanoma images...\")\n",
    "melanoma_images, melanoma_labels = load_images_from_directory(melanoma_dir, 1)\n",
    "\n",
    "print(\"Loading augmented melanoma images...\")\n",
    "augmented_melanoma_images, augmented_melanoma_labels = load_images_from_directory(\n",
    "    melanoma_augmented_dir, 1)\n",
    "\n",
    "# Load non-melanoma images\n",
    "print(\"Loading non-melanoma augmented images...\")\n",
    "non_melanoma_augmented_images, non_melanoma_augmented_labels = load_images_from_directory(\n",
    "    non_melanoma_augmented_dir, 0)\n",
    "\n",
    "print(\"Loading non-melanoma images...\")\n",
    "non_melanoma_images, non_melanoma_labels = load_images_from_directory(\n",
    "    non_melanoma_dir, 0)\n"
   ]
  },
  {
   "cell_type": "code",
   "execution_count": null,
   "id": "a57b6a23",
   "metadata": {},
   "outputs": [],
   "source": [
    "print(f\"Loaded {len(melanoma_images)} melanoma images.\")\n",
    "print(f\"Loaded {len(augmented_melanoma_images)} augmented melanoma images.\")\n",
    "print(f\"Loaded {len(non_melanoma_images)} non-melanoma images.\")\n",
    "print(f\"Loaded {len(non_melanoma_augmented_images)} augmented non-melanoma images.\")\n",
    "print(f\"\\nTotal Melanoma images: {len(melanoma_images) + len(augmented_melanoma_images)}\")\n",
    "print(f\"Total Non-Melanoma images: {len(non_melanoma_images) + len(non_melanoma_augmented_images)}\")"
   ]
  },
  {
   "cell_type": "code",
   "execution_count": null,
   "id": "d3108282",
   "metadata": {},
   "outputs": [],
   "source": [
    "# Combine datasets with balanced classes\n",
    "# Take all melanoma images and equal number of non-melanoma images\n",
    "X = np.array(melanoma_images + augmented_melanoma_images + non_melanoma_images[:10157] + non_melanoma_augmented_images[:10157])\n",
    "y = np.array(melanoma_labels + augmented_melanoma_labels + non_melanoma_labels[:10157] + non_melanoma_augmented_labels[:10157])\n",
    "\n",
    "\n",
    "# Print dataset information\n",
    "print(f\"Dataset loaded: {X.shape} images\")"
   ]
  },
  {
   "cell_type": "code",
   "execution_count": null,
   "id": "12fed5e6",
   "metadata": {},
   "outputs": [],
   "source": [
    "# Split data into training, validation, and test sets\n",
    "# First split: 80% training+validation, 20% test\n",
    "X_train_val, X_test, y_train_val, y_test = train_test_split(X, y, test_size=0.2, random_state=42)\n",
    "\n",
    "# Second split: 80% training, 20% validation (from the training+validation set)\n",
    "X_train, X_val, y_train, y_val = train_test_split(X_train_val, y_train_val, test_size=0.2, random_state=42)\n",
    "\n",
    "print(f\"Training set: {X_train.shape} images\")\n",
    "print(f\"Validation set: {X_val.shape} images\")\n",
    "print(f\"Test set: {X_test.shape[0]} images\")\n",
    "\n",
    "# Check class distribution in each set\n",
    "print(f\"Training set - Melanoma: {np.sum(y_train == 1)}, Non-melanoma: {np.sum(y_train == 0)}\")\n",
    "print(f\"Validation set - Melanoma: {np.sum(y_val == 1)}, Non-melanoma: {np.sum(y_val == 0)}\")\n",
    "print(f\"Test set - Melanoma: {np.sum(y_test == 1)}, Non-melanoma: {np.sum(y_test == 0)}\")"
   ]
  },
  {
   "cell_type": "code",
   "execution_count": null,
   "id": "0e474ace",
   "metadata": {},
   "outputs": [],
   "source": [
    "IMG_WIDTH = 224  # Ensure this is defined, from your model cell\n",
    "IMG_HEIGHT = 224  # Ensure this is defined, from your model cell\n",
    "IMAGE_SIZE = (IMG_HEIGHT, IMG_WIDTH)\n",
    "BATCH_SIZE = 32  # Ensure this is defined, from your training cell\n",
    "\n",
    "\n",
    "print(\"Loading images using tf.keras.utils.image_dataset_from_directory...\")\n",
    "\n",
    "if not processed_dir.exists():\n",
    "    raise FileNotFoundError(f\"Processed directory not found: {processed_dir}\")\n",
    "if not augmented_dir.exists():\n",
    "    raise FileNotFoundError(f\"Augmented directory not found: {augmented_dir}\")\n",
    "\n",
    "try:\n",
    "    processed_ds = tf.keras.utils.image_dataset_from_directory(\n",
    "        processed_dir,\n",
    "        labels=\"inferred\",\n",
    "        label_mode=\"binary\",  # For binary classification (0.0 or 1.0)\n",
    "        class_names=[\n",
    "            \"non_melanoma\",\n",
    "            \"melanoma\",\n",
    "        ],  # Ensures 0 for non_melanoma, 1 for melanoma\n",
    "        image_size=IMAGE_SIZE,\n",
    "        interpolation=\"nearest\",\n",
    "        batch_size=None,  # Load unbatched first, batch later\n",
    "        shuffle=False,  # Shuffle after combining\n",
    "    )\n",
    "    print(f\"Class names for processed_ds: {processed_ds.class_names}\")\n",
    "\n",
    "    augmented_ds = tf.keras.utils.image_dataset_from_directory(\n",
    "        augmented_dir,\n",
    "        labels=\"inferred\",\n",
    "        label_mode=\"binary\",\n",
    "        class_names=[\"non_melanoma\", \"melanoma\"],\n",
    "        image_size=IMAGE_SIZE,\n",
    "        interpolation=\"nearest\",\n",
    "        batch_size=None,  # Load unbatched first, batch later\n",
    "        shuffle=False,\n",
    "    )\n",
    "    print(f\"Class names for augmented_ds: {augmented_ds.class_names}\")\n",
    "\n",
    "    full_ds = processed_ds.concatenate(augmented_ds)\n",
    "    print(\"Combined processed and augmented datasets.\")\n",
    "\n",
    "    num_total_samples = 0\n",
    "    for _ in full_ds:\n",
    "        num_total_samples += 1\n",
    "    print(f\"Total samples in combined dataset: {num_total_samples}\")\n",
    "\n",
    "    if num_total_samples == 0:\n",
    "        raise ValueError(\n",
    "            \"No data loaded. Check your directories and image_dataset_from_directory calls.\"\n",
    "        )\n",
    "\n",
    "    SHUFFLE_BUFFER_SIZE = num_total_samples\n",
    "    full_ds = full_ds.shuffle(\n",
    "        buffer_size=SHUFFLE_BUFFER_SIZE, reshuffle_each_iteration=True\n",
    "    )\n",
    "    print(f\"Shuffling dataset with buffer size: {SHUFFLE_BUFFER_SIZE}\")\n",
    "\n",
    "    train_size = int(0.64 * num_total_samples)\n",
    "    val_size = int(0.16 * num_total_samples)\n",
    "    # test_size = num_total_samples - train_size - val_size # The rest is test\n",
    "\n",
    "    train_ds = full_ds.take(train_size)\n",
    "    val_ds = full_ds.skip(train_size).take(val_size)\n",
    "    test_ds = full_ds.skip(train_size + val_size)\n",
    "\n",
    "    print(f\"Training set size: {train_size} samples\")\n",
    "    print(f\"Validation set size: {val_size} samples\")\n",
    "    # To get test_size accurately after take/skip:\n",
    "    test_samples_count = 0\n",
    "    for _ in test_ds:  # Iterate to count elements in test_ds\n",
    "        test_samples_count += 1\n",
    "    print(f\"Test set size: {test_samples_count} samples\")\n",
    "\n",
    "    # Batch and prefetch for performance\n",
    "    # Normalization: ResNet50V2 expects inputs in [-1, 1] or [0, 1] depending on `preprocess_input`\n",
    "    # or how you handle it. image_dataset_from_directory loads pixels in [0, 255].\n",
    "    # You should add a normalization step.\n",
    "    def normalize_img(image, label):\n",
    "        # Rescale to [0,1] - adjust if your model/ResNet50V2 preprocess_input expects different range\n",
    "        return tf.cast(image, tf.float32) / 255.0, label\n",
    "\n",
    "    train_ds = (\n",
    "        train_ds.map(normalize_img, num_parallel_calls=tf.data.AUTOTUNE)\n",
    "        .batch(BATCH_SIZE)\n",
    "        .prefetch(buffer_size=tf.data.AUTOTUNE)\n",
    "    )\n",
    "    val_ds = (\n",
    "        val_ds.map(normalize_img, num_parallel_calls=tf.data.AUTOTUNE)\n",
    "        .batch(BATCH_SIZE)\n",
    "        .prefetch(buffer_size=tf.data.AUTOTUNE)\n",
    "    )\n",
    "    test_ds = (\n",
    "        test_ds.map(normalize_img, num_parallel_calls=tf.data.AUTOTUNE)\n",
    "        .batch(BATCH_SIZE)\n",
    "        .prefetch(buffer_size=tf.data.AUTOTUNE)\n",
    "    )\n",
    "\n",
    "    print(\"Training, validation, and test datasets created, batched, and prefetched.\")\n",
    "\n",
    "    # Inspect a batch (optional)\n",
    "    for images, labels in train_ds.take(1):\n",
    "        print(\n",
    "            \"Images shape in a batch:\", images.shape\n",
    "        )  # (BATCH_SIZE, IMG_HEIGHT, IMG_WIDTH, 3)\n",
    "        print(\n",
    "            \"Labels shape in a batch:\", labels.shape\n",
    "        )  # (BATCH_SIZE, 1) for label_mode='binary'\n",
    "        print(\"Sample labels:\", labels.numpy()[:5])\n",
    "\n",
    "except Exception as e:\n",
    "    print(f\"An error occurred during data loading with tf.data: {e}\")\n",
    "    print(\n",
    "        \"Please ensure your directories are structured correctly (e.g., processed_dir/melanoma, processed_dir/non_melanoma).\"\n",
    "    )\n",
    "    train_ds, val_ds, test_ds = None, None, None  # Fallback"
   ]
  },
  {
   "cell_type": "code",
   "execution_count": null,
   "id": "b3da1589",
   "metadata": {},
   "outputs": [],
   "source": [
    "class_weight = {0: np.float64(1.2165908505707665), 1: np.float64(2.1833795440542207)}"
   ]
  },
  {
   "cell_type": "markdown",
   "id": "33031ac2",
   "metadata": {},
   "source": [
    "## 2. Build CNN Model\n",
    "\n",
    "We'll create a CNN model architecture suitable for melanoma classification."
   ]
  },
  {
   "cell_type": "code",
   "execution_count": null,
   "id": "4f50df5d",
   "metadata": {},
   "outputs": [],
   "source": [
    "IMG_WIDTH = 224\n",
    "IMG_HEIGHT = 224\n",
    "IMG_CHANNELS = 3\n",
    "NUM_CLASSES = 1\n",
    "\n",
    "\n",
    "def build_cnn_model(input_shape=(IMG_WIDTH, IMG_HEIGHT, IMG_CHANNELS)):\n",
    "    base_model = ResNet50V2(\n",
    "        include_top=False,\n",
    "        weights=\"imagenet\",\n",
    "        input_shape=input_shape,\n",
    "        pooling=None,  # We'll add our own pooling layer\n",
    "    )\n",
    "    base_model.trainable = False  # Freeze the base model\n",
    "    # Compile model\n",
    "    inputs = tf.keras.Input(shape=input_shape)\n",
    "    x = base_model(inputs, training=False)\n",
    "    x = tf.keras.layers.GlobalAveragePooling2D(name=\"avg_pool\")(x)\n",
    "    outputs = tf.keras.layers.Dense(\n",
    "        NUM_CLASSES, activation=\"sigmoid\", name=\"classifier\"\n",
    "    )(x)\n",
    "    model = tf.keras.Model(inputs=inputs, outputs=outputs, name=\"Melanoma_ResNet50V2\")\n",
    "    model.compile(\n",
    "        optimizer=Adam(learning_rate=0.0001),\n",
    "        loss=\"binary_crossentropy\",\n",
    "        metrics=[\n",
    "            \"accuracy\",\n",
    "            tf.keras.metrics.AUC(name=\"auc\"),\n",
    "            tf.keras.metrics.Precision(name=\"precision\"),\n",
    "            tf.keras.metrics.Recall(name=\"recall\"),  # Recall is Sensitivity\n",
    "        ],\n",
    "    )\n",
    "    return model\n",
    "\n",
    "\n",
    "# Build the model\n",
    "model = build_cnn_model()\n",
    "model.summary()"
   ]
  },
  {
   "cell_type": "code",
   "execution_count": null,
   "id": "5fb5a951",
   "metadata": {},
   "outputs": [],
   "source": [
    "# Set up callbacks for training\n",
    "callbacks = [\n",
    "    EarlyStopping(monitor='val_loss', patience=5, restore_best_weights=True),\n",
    "    ReduceLROnPlateau(monitor='val_loss', factor=0.2, patience=5, min_lr=1e-6),\n",
    "    ModelCheckpoint('../working/melanoma_model.h5', monitor='val_auc', mode='max', save_best_only=True, verbose=1)\n",
    "]\n"
   ]
  },
  {
   "cell_type": "code",
   "execution_count": null,
   "id": "eb5eeff9",
   "metadata": {},
   "outputs": [],
   "source": [
    "X_train.shape"
   ]
  },
  {
   "cell_type": "code",
   "execution_count": 8,
   "id": "c71c5fb8",
   "metadata": {},
   "outputs": [
    {
     "name": "stdout",
     "output_type": "stream",
     "text": [
      "\u001b[1m1134/1134\u001b[0m \u001b[32m━━━━━━━━━━━━━━━━━━━━\u001b[0m\u001b[37m\u001b[0m \u001b[1m0s\u001b[0m 868ms/step - accuracy: 0.5828 - auc: 0.6389 - loss: 1.0504 - precision: 0.4487 - recall: 0.6449\n",
      "Epoch 1: val_auc improved from -inf to 0.77479, saving model to ../working/melanoma_model.h5\n"
     ]
    },
    {
     "name": "stderr",
     "output_type": "stream",
     "text": [
      "WARNING:absl:You are saving your model as an HDF5 file via `model.save()` or `keras.saving.save_model(model)`. This file format is considered legacy. We recommend using instead the native Keras format, e.g. `model.save('my_model.keras')` or `keras.saving.save_model(model, 'my_model.keras')`. \n"
     ]
    },
    {
     "name": "stdout",
     "output_type": "stream",
     "text": [
      "\u001b[1m1134/1134\u001b[0m \u001b[32m━━━━━━━━━━━━━━━━━━━━\u001b[0m\u001b[37m\u001b[0m \u001b[1m1159s\u001b[0m 1s/step - accuracy: 0.5828 - auc: 0.6390 - loss: 1.0503 - precision: 0.4487 - recall: 0.6449 - val_accuracy: 0.7141 - val_auc: 0.7748 - val_loss: 0.5542 - val_precision: 0.5946 - val_recall: 0.6386 - learning_rate: 1.0000e-04\n",
      "Epoch 2/20\n",
      "\u001b[1m1134/1134\u001b[0m \u001b[32m━━━━━━━━━━━━━━━━━━━━\u001b[0m\u001b[37m\u001b[0m \u001b[1m0s\u001b[0m 489ms/step - accuracy: 0.7105 - auc: 0.7837 - loss: 0.8720 - precision: 0.5813 - recall: 0.6887\n",
      "Epoch 2: val_auc improved from 0.77479 to 0.80892, saving model to ../working/melanoma_model.h5\n"
     ]
    },
    {
     "name": "stderr",
     "output_type": "stream",
     "text": [
      "WARNING:absl:You are saving your model as an HDF5 file via `model.save()` or `keras.saving.save_model(model)`. This file format is considered legacy. We recommend using instead the native Keras format, e.g. `model.save('my_model.keras')` or `keras.saving.save_model(model, 'my_model.keras')`. \n"
     ]
    },
    {
     "name": "stdout",
     "output_type": "stream",
     "text": [
      "\u001b[1m1134/1134\u001b[0m \u001b[32m━━━━━━━━━━━━━━━━━━━━\u001b[0m\u001b[37m\u001b[0m \u001b[1m714s\u001b[0m 620ms/step - accuracy: 0.7105 - auc: 0.7837 - loss: 0.8720 - precision: 0.5813 - recall: 0.6887 - val_accuracy: 0.7385 - val_auc: 0.8089 - val_loss: 0.5231 - val_precision: 0.6194 - val_recall: 0.6944 - learning_rate: 1.0000e-04\n",
      "Epoch 3/20\n",
      "\u001b[1m1134/1134\u001b[0m \u001b[32m━━━━━━━━━━━━━━━━━━━━\u001b[0m\u001b[37m\u001b[0m \u001b[1m0s\u001b[0m 490ms/step - accuracy: 0.7285 - auc: 0.8030 - loss: 0.8408 - precision: 0.6035 - recall: 0.7088\n",
      "Epoch 3: val_auc improved from 0.80892 to 0.81195, saving model to ../working/melanoma_model.h5\n"
     ]
    },
    {
     "name": "stderr",
     "output_type": "stream",
     "text": [
      "WARNING:absl:You are saving your model as an HDF5 file via `model.save()` or `keras.saving.save_model(model)`. This file format is considered legacy. We recommend using instead the native Keras format, e.g. `model.save('my_model.keras')` or `keras.saving.save_model(model, 'my_model.keras')`. \n"
     ]
    },
    {
     "name": "stdout",
     "output_type": "stream",
     "text": [
      "\u001b[1m1134/1134\u001b[0m \u001b[32m━━━━━━━━━━━━━━━━━━━━\u001b[0m\u001b[37m\u001b[0m \u001b[1m712s\u001b[0m 620ms/step - accuracy: 0.7285 - auc: 0.8031 - loss: 0.8408 - precision: 0.6035 - recall: 0.7088 - val_accuracy: 0.7389 - val_auc: 0.8120 - val_loss: 0.5259 - val_precision: 0.6094 - val_recall: 0.7190 - learning_rate: 1.0000e-04\n",
      "Epoch 4/20\n",
      "\u001b[1m1134/1134\u001b[0m \u001b[32m━━━━━━━━━━━━━━━━━━━━\u001b[0m\u001b[37m\u001b[0m \u001b[1m0s\u001b[0m 491ms/step - accuracy: 0.7394 - auc: 0.8133 - loss: 0.8228 - precision: 0.6143 - recall: 0.7230\n",
      "Epoch 4: val_auc improved from 0.81195 to 0.81389, saving model to ../working/melanoma_model.h5\n"
     ]
    },
    {
     "name": "stderr",
     "output_type": "stream",
     "text": [
      "WARNING:absl:You are saving your model as an HDF5 file via `model.save()` or `keras.saving.save_model(model)`. This file format is considered legacy. We recommend using instead the native Keras format, e.g. `model.save('my_model.keras')` or `keras.saving.save_model(model, 'my_model.keras')`. \n"
     ]
    },
    {
     "name": "stdout",
     "output_type": "stream",
     "text": [
      "\u001b[1m1134/1134\u001b[0m \u001b[32m━━━━━━━━━━━━━━━━━━━━\u001b[0m\u001b[37m\u001b[0m \u001b[1m713s\u001b[0m 621ms/step - accuracy: 0.7394 - auc: 0.8133 - loss: 0.8228 - precision: 0.6143 - recall: 0.7230 - val_accuracy: 0.7436 - val_auc: 0.8139 - val_loss: 0.5108 - val_precision: 0.6396 - val_recall: 0.6742 - learning_rate: 1.0000e-04\n",
      "Epoch 5/20\n",
      "\u001b[1m1134/1134\u001b[0m \u001b[32m━━━━━━━━━━━━━━━━━━━━\u001b[0m\u001b[37m\u001b[0m \u001b[1m0s\u001b[0m 490ms/step - accuracy: 0.7414 - auc: 0.8207 - loss: 0.8073 - precision: 0.6177 - recall: 0.7275\n",
      "Epoch 5: val_auc improved from 0.81389 to 0.82074, saving model to ../working/melanoma_model.h5\n"
     ]
    },
    {
     "name": "stderr",
     "output_type": "stream",
     "text": [
      "WARNING:absl:You are saving your model as an HDF5 file via `model.save()` or `keras.saving.save_model(model)`. This file format is considered legacy. We recommend using instead the native Keras format, e.g. `model.save('my_model.keras')` or `keras.saving.save_model(model, 'my_model.keras')`. \n"
     ]
    },
    {
     "name": "stdout",
     "output_type": "stream",
     "text": [
      "\u001b[1m1134/1134\u001b[0m \u001b[32m━━━━━━━━━━━━━━━━━━━━\u001b[0m\u001b[37m\u001b[0m \u001b[1m713s\u001b[0m 620ms/step - accuracy: 0.7414 - auc: 0.8207 - loss: 0.8073 - precision: 0.6177 - recall: 0.7275 - val_accuracy: 0.7444 - val_auc: 0.8207 - val_loss: 0.5104 - val_precision: 0.6293 - val_recall: 0.7113 - learning_rate: 1.0000e-04\n",
      "Epoch 6/20\n",
      "\u001b[1m1134/1134\u001b[0m \u001b[32m━━━━━━━━━━━━━━━━━━━━\u001b[0m\u001b[37m\u001b[0m \u001b[1m0s\u001b[0m 821ms/step - accuracy: 0.7481 - auc: 0.8276 - loss: 0.7934 - precision: 0.6239 - recall: 0.7360\n",
      "Epoch 6: val_auc improved from 0.82074 to 0.82913, saving model to ../working/melanoma_model.h5\n"
     ]
    },
    {
     "name": "stderr",
     "output_type": "stream",
     "text": [
      "WARNING:absl:You are saving your model as an HDF5 file via `model.save()` or `keras.saving.save_model(model)`. This file format is considered legacy. We recommend using instead the native Keras format, e.g. `model.save('my_model.keras')` or `keras.saving.save_model(model, 'my_model.keras')`. \n"
     ]
    },
    {
     "name": "stdout",
     "output_type": "stream",
     "text": [
      "\u001b[1m1134/1134\u001b[0m \u001b[32m━━━━━━━━━━━━━━━━━━━━\u001b[0m\u001b[37m\u001b[0m \u001b[1m1179s\u001b[0m 1s/step - accuracy: 0.7481 - auc: 0.8276 - loss: 0.7934 - precision: 0.6239 - recall: 0.7360 - val_accuracy: 0.7427 - val_auc: 0.8291 - val_loss: 0.5098 - val_precision: 0.6235 - val_recall: 0.7458 - learning_rate: 1.0000e-04\n",
      "Epoch 7/20\n",
      "\u001b[1m1134/1134\u001b[0m \u001b[32m━━━━━━━━━━━━━━━━━━━━\u001b[0m\u001b[37m\u001b[0m \u001b[1m0s\u001b[0m 1s/step - accuracy: 0.7444 - auc: 0.8264 - loss: 0.7975 - precision: 0.6232 - recall: 0.7361\n",
      "Epoch 7: val_auc improved from 0.82913 to 0.83892, saving model to ../working/melanoma_model.h5\n"
     ]
    },
    {
     "name": "stderr",
     "output_type": "stream",
     "text": [
      "WARNING:absl:You are saving your model as an HDF5 file via `model.save()` or `keras.saving.save_model(model)`. This file format is considered legacy. We recommend using instead the native Keras format, e.g. `model.save('my_model.keras')` or `keras.saving.save_model(model, 'my_model.keras')`. \n"
     ]
    },
    {
     "name": "stdout",
     "output_type": "stream",
     "text": [
      "\u001b[1m1134/1134\u001b[0m \u001b[32m━━━━━━━━━━━━━━━━━━━━\u001b[0m\u001b[37m\u001b[0m \u001b[1m1518s\u001b[0m 1s/step - accuracy: 0.7444 - auc: 0.8264 - loss: 0.7975 - precision: 0.6232 - recall: 0.7361 - val_accuracy: 0.7591 - val_auc: 0.8389 - val_loss: 0.4965 - val_precision: 0.6501 - val_recall: 0.7499 - learning_rate: 1.0000e-04\n",
      "Epoch 8/20\n",
      "\u001b[1m1134/1134\u001b[0m \u001b[32m━━━━━━━━━━━━━━━━━━━━\u001b[0m\u001b[37m\u001b[0m \u001b[1m0s\u001b[0m 915ms/step - accuracy: 0.7481 - auc: 0.8305 - loss: 0.7834 - precision: 0.6195 - recall: 0.7331\n",
      "Epoch 8: val_auc did not improve from 0.83892\n",
      "\u001b[1m1134/1134\u001b[0m \u001b[32m━━━━━━━━━━━━━━━━━━━━\u001b[0m\u001b[37m\u001b[0m \u001b[1m1327s\u001b[0m 1s/step - accuracy: 0.7481 - auc: 0.8305 - loss: 0.7834 - precision: 0.6195 - recall: 0.7331 - val_accuracy: 0.7602 - val_auc: 0.8377 - val_loss: 0.4979 - val_precision: 0.6460 - val_recall: 0.7535 - learning_rate: 1.0000e-04\n",
      "Epoch 9/20\n",
      "\u001b[1m1134/1134\u001b[0m \u001b[32m━━━━━━━━━━━━━━━━━━━━\u001b[0m\u001b[37m\u001b[0m \u001b[1m0s\u001b[0m 537ms/step - accuracy: 0.7520 - auc: 0.8342 - loss: 0.7780 - precision: 0.6268 - recall: 0.7368\n",
      "Epoch 9: val_auc did not improve from 0.83892\n",
      "\u001b[1m1134/1134\u001b[0m \u001b[32m━━━━━━━━━━━━━━━━━━━━\u001b[0m\u001b[37m\u001b[0m \u001b[1m787s\u001b[0m 673ms/step - accuracy: 0.7520 - auc: 0.8342 - loss: 0.7780 - precision: 0.6268 - recall: 0.7368 - val_accuracy: 0.7495 - val_auc: 0.8365 - val_loss: 0.5018 - val_precision: 0.6192 - val_recall: 0.7538 - learning_rate: 1.0000e-04\n",
      "Epoch 10/20\n",
      "\u001b[1m1134/1134\u001b[0m \u001b[32m━━━━━━━━━━━━━━━━━━━━\u001b[0m\u001b[37m\u001b[0m \u001b[1m0s\u001b[0m 491ms/step - accuracy: 0.7592 - auc: 0.8400 - loss: 0.7690 - precision: 0.6381 - recall: 0.7464\n",
      "Epoch 10: val_auc improved from 0.83892 to 0.83953, saving model to ../working/melanoma_model.h5\n"
     ]
    },
    {
     "name": "stderr",
     "output_type": "stream",
     "text": [
      "WARNING:absl:You are saving your model as an HDF5 file via `model.save()` or `keras.saving.save_model(model)`. This file format is considered legacy. We recommend using instead the native Keras format, e.g. `model.save('my_model.keras')` or `keras.saving.save_model(model, 'my_model.keras')`. \n"
     ]
    },
    {
     "name": "stdout",
     "output_type": "stream",
     "text": [
      "\u001b[1m1134/1134\u001b[0m \u001b[32m━━━━━━━━━━━━━━━━━━━━\u001b[0m\u001b[37m\u001b[0m \u001b[1m717s\u001b[0m 622ms/step - accuracy: 0.7592 - auc: 0.8400 - loss: 0.7690 - precision: 0.6381 - recall: 0.7464 - val_accuracy: 0.7506 - val_auc: 0.8395 - val_loss: 0.5025 - val_precision: 0.6204 - val_recall: 0.7707 - learning_rate: 1.0000e-04\n",
      "Epoch 11/20\n",
      "\u001b[1m1134/1134\u001b[0m \u001b[32m━━━━━━━━━━━━━━━━━━━━\u001b[0m\u001b[37m\u001b[0m \u001b[1m0s\u001b[0m 492ms/step - accuracy: 0.7525 - auc: 0.8364 - loss: 0.7763 - precision: 0.6317 - recall: 0.7415\n",
      "Epoch 11: val_auc did not improve from 0.83953\n",
      "\u001b[1m1134/1134\u001b[0m \u001b[32m━━━━━━━━━━━━━━━━━━━━\u001b[0m\u001b[37m\u001b[0m \u001b[1m718s\u001b[0m 625ms/step - accuracy: 0.7525 - auc: 0.8364 - loss: 0.7763 - precision: 0.6317 - recall: 0.7415 - val_accuracy: 0.7560 - val_auc: 0.8379 - val_loss: 0.4989 - val_precision: 0.6288 - val_recall: 0.7528 - learning_rate: 1.0000e-04\n",
      "Epoch 12/20\n",
      "\u001b[1m1134/1134\u001b[0m \u001b[32m━━━━━━━━━━━━━━━━━━━━\u001b[0m\u001b[37m\u001b[0m \u001b[1m0s\u001b[0m 487ms/step - accuracy: 0.7558 - auc: 0.8395 - loss: 0.7715 - precision: 0.6371 - recall: 0.7457\n",
      "Epoch 12: val_auc improved from 0.83953 to 0.84306, saving model to ../working/melanoma_model.h5\n"
     ]
    },
    {
     "name": "stderr",
     "output_type": "stream",
     "text": [
      "WARNING:absl:You are saving your model as an HDF5 file via `model.save()` or `keras.saving.save_model(model)`. This file format is considered legacy. We recommend using instead the native Keras format, e.g. `model.save('my_model.keras')` or `keras.saving.save_model(model, 'my_model.keras')`. \n"
     ]
    },
    {
     "name": "stdout",
     "output_type": "stream",
     "text": [
      "\u001b[1m1134/1134\u001b[0m \u001b[32m━━━━━━━━━━━━━━━━━━━━\u001b[0m\u001b[37m\u001b[0m \u001b[1m714s\u001b[0m 621ms/step - accuracy: 0.7558 - auc: 0.8395 - loss: 0.7715 - precision: 0.6371 - recall: 0.7457 - val_accuracy: 0.7587 - val_auc: 0.8431 - val_loss: 0.4863 - val_precision: 0.6431 - val_recall: 0.7414 - learning_rate: 1.0000e-04\n",
      "Epoch 13/20\n",
      "\u001b[1m1134/1134\u001b[0m \u001b[32m━━━━━━━━━━━━━━━━━━━━\u001b[0m\u001b[37m\u001b[0m \u001b[1m0s\u001b[0m 523ms/step - accuracy: 0.7555 - auc: 0.8392 - loss: 0.7680 - precision: 0.6321 - recall: 0.7437\n",
      "Epoch 13: val_auc improved from 0.84306 to 0.84594, saving model to ../working/melanoma_model.h5\n"
     ]
    },
    {
     "name": "stderr",
     "output_type": "stream",
     "text": [
      "WARNING:absl:You are saving your model as an HDF5 file via `model.save()` or `keras.saving.save_model(model)`. This file format is considered legacy. We recommend using instead the native Keras format, e.g. `model.save('my_model.keras')` or `keras.saving.save_model(model, 'my_model.keras')`. \n"
     ]
    },
    {
     "name": "stdout",
     "output_type": "stream",
     "text": [
      "\u001b[1m1134/1134\u001b[0m \u001b[32m━━━━━━━━━━━━━━━━━━━━\u001b[0m\u001b[37m\u001b[0m \u001b[1m921s\u001b[0m 804ms/step - accuracy: 0.7555 - auc: 0.8392 - loss: 0.7680 - precision: 0.6321 - recall: 0.7437 - val_accuracy: 0.7592 - val_auc: 0.8459 - val_loss: 0.4882 - val_precision: 0.6423 - val_recall: 0.7651 - learning_rate: 1.0000e-04\n",
      "Epoch 14/20\n",
      "\u001b[1m1134/1134\u001b[0m \u001b[32m━━━━━━━━━━━━━━━━━━━━\u001b[0m\u001b[37m\u001b[0m \u001b[1m0s\u001b[0m 795ms/step - accuracy: 0.7604 - auc: 0.8441 - loss: 0.7600 - precision: 0.6383 - recall: 0.7522\n",
      "Epoch 14: val_auc improved from 0.84594 to 0.84605, saving model to ../working/melanoma_model.h5\n"
     ]
    },
    {
     "name": "stderr",
     "output_type": "stream",
     "text": [
      "WARNING:absl:You are saving your model as an HDF5 file via `model.save()` or `keras.saving.save_model(model)`. This file format is considered legacy. We recommend using instead the native Keras format, e.g. `model.save('my_model.keras')` or `keras.saving.save_model(model, 'my_model.keras')`. \n"
     ]
    },
    {
     "name": "stdout",
     "output_type": "stream",
     "text": [
      "\u001b[1m1134/1134\u001b[0m \u001b[32m━━━━━━━━━━━━━━━━━━━━\u001b[0m\u001b[37m\u001b[0m \u001b[1m1104s\u001b[0m 956ms/step - accuracy: 0.7604 - auc: 0.8441 - loss: 0.7600 - precision: 0.6383 - recall: 0.7522 - val_accuracy: 0.7608 - val_auc: 0.8461 - val_loss: 0.4881 - val_precision: 0.6337 - val_recall: 0.7554 - learning_rate: 1.0000e-04\n",
      "Epoch 15/20\n",
      "\u001b[1m1134/1134\u001b[0m \u001b[32m━━━━━━━━━━━━━━━━━━━━\u001b[0m\u001b[37m\u001b[0m \u001b[1m0s\u001b[0m 744ms/step - accuracy: 0.7658 - auc: 0.8457 - loss: 0.7566 - precision: 0.6460 - recall: 0.7521\n",
      "Epoch 15: val_auc did not improve from 0.84605\n",
      "\u001b[1m1134/1134\u001b[0m \u001b[32m━━━━━━━━━━━━━━━━━━━━\u001b[0m\u001b[37m\u001b[0m \u001b[1m1185s\u001b[0m 1s/step - accuracy: 0.7658 - auc: 0.8457 - loss: 0.7566 - precision: 0.6460 - recall: 0.7521 - val_accuracy: 0.7586 - val_auc: 0.8429 - val_loss: 0.4882 - val_precision: 0.6369 - val_recall: 0.7478 - learning_rate: 1.0000e-04\n",
      "Epoch 16/20\n",
      "\u001b[1m1134/1134\u001b[0m \u001b[32m━━━━━━━━━━━━━━━━━━━━\u001b[0m\u001b[37m\u001b[0m \u001b[1m0s\u001b[0m 830ms/step - accuracy: 0.7598 - auc: 0.8435 - loss: 0.7632 - precision: 0.6428 - recall: 0.7571\n",
      "Epoch 16: val_auc improved from 0.84605 to 0.84893, saving model to ../working/melanoma_model.h5\n"
     ]
    },
    {
     "name": "stderr",
     "output_type": "stream",
     "text": [
      "WARNING:absl:You are saving your model as an HDF5 file via `model.save()` or `keras.saving.save_model(model)`. This file format is considered legacy. We recommend using instead the native Keras format, e.g. `model.save('my_model.keras')` or `keras.saving.save_model(model, 'my_model.keras')`. \n"
     ]
    },
    {
     "name": "stdout",
     "output_type": "stream",
     "text": [
      "\u001b[1m1134/1134\u001b[0m \u001b[32m━━━━━━━━━━━━━━━━━━━━\u001b[0m\u001b[37m\u001b[0m \u001b[1m1262s\u001b[0m 1s/step - accuracy: 0.7598 - auc: 0.8435 - loss: 0.7632 - precision: 0.6428 - recall: 0.7571 - val_accuracy: 0.7610 - val_auc: 0.8489 - val_loss: 0.4816 - val_precision: 0.6387 - val_recall: 0.7607 - learning_rate: 1.0000e-04\n",
      "Epoch 17/20\n",
      "\u001b[1m1134/1134\u001b[0m \u001b[32m━━━━━━━━━━━━━━━━━━━━\u001b[0m\u001b[37m\u001b[0m \u001b[1m0s\u001b[0m 790ms/step - accuracy: 0.7652 - auc: 0.8492 - loss: 0.7506 - precision: 0.6485 - recall: 0.7618\n",
      "Epoch 17: val_auc improved from 0.84893 to 0.85018, saving model to ../working/melanoma_model.h5\n"
     ]
    },
    {
     "name": "stderr",
     "output_type": "stream",
     "text": [
      "WARNING:absl:You are saving your model as an HDF5 file via `model.save()` or `keras.saving.save_model(model)`. This file format is considered legacy. We recommend using instead the native Keras format, e.g. `model.save('my_model.keras')` or `keras.saving.save_model(model, 'my_model.keras')`. \n"
     ]
    },
    {
     "name": "stdout",
     "output_type": "stream",
     "text": [
      "\u001b[1m1134/1134\u001b[0m \u001b[32m━━━━━━━━━━━━━━━━━━━━\u001b[0m\u001b[37m\u001b[0m \u001b[1m1109s\u001b[0m 960ms/step - accuracy: 0.7652 - auc: 0.8492 - loss: 0.7506 - precision: 0.6485 - recall: 0.7618 - val_accuracy: 0.7704 - val_auc: 0.8502 - val_loss: 0.4754 - val_precision: 0.6565 - val_recall: 0.7430 - learning_rate: 1.0000e-04\n",
      "Epoch 18/20\n",
      "\u001b[1m1134/1134\u001b[0m \u001b[32m━━━━━━━━━━━━━━━━━━━━\u001b[0m\u001b[37m\u001b[0m \u001b[1m0s\u001b[0m 604ms/step - accuracy: 0.7600 - auc: 0.8455 - loss: 0.7579 - precision: 0.6413 - recall: 0.7523\n",
      "Epoch 18: val_auc did not improve from 0.85018\n",
      "\u001b[1m1134/1134\u001b[0m \u001b[32m━━━━━━━━━━━━━━━━━━━━\u001b[0m\u001b[37m\u001b[0m \u001b[1m980s\u001b[0m 851ms/step - accuracy: 0.7600 - auc: 0.8455 - loss: 0.7579 - precision: 0.6413 - recall: 0.7523 - val_accuracy: 0.7631 - val_auc: 0.8455 - val_loss: 0.4870 - val_precision: 0.6483 - val_recall: 0.7569 - learning_rate: 1.0000e-04\n",
      "Epoch 19/20\n",
      "\u001b[1m1134/1134\u001b[0m \u001b[32m━━━━━━━━━━━━━━━━━━━━\u001b[0m\u001b[37m\u001b[0m \u001b[1m0s\u001b[0m 656ms/step - accuracy: 0.7632 - auc: 0.8471 - loss: 0.7534 - precision: 0.6446 - recall: 0.7506\n",
      "Epoch 19: val_auc improved from 0.85018 to 0.85107, saving model to ../working/melanoma_model.h5\n"
     ]
    },
    {
     "name": "stderr",
     "output_type": "stream",
     "text": [
      "WARNING:absl:You are saving your model as an HDF5 file via `model.save()` or `keras.saving.save_model(model)`. This file format is considered legacy. We recommend using instead the native Keras format, e.g. `model.save('my_model.keras')` or `keras.saving.save_model(model, 'my_model.keras')`. \n"
     ]
    },
    {
     "name": "stdout",
     "output_type": "stream",
     "text": [
      "\u001b[1m1134/1134\u001b[0m \u001b[32m━━━━━━━━━━━━━━━━━━━━\u001b[0m\u001b[37m\u001b[0m \u001b[1m1025s\u001b[0m 887ms/step - accuracy: 0.7632 - auc: 0.8471 - loss: 0.7534 - precision: 0.6446 - recall: 0.7506 - val_accuracy: 0.7611 - val_auc: 0.8511 - val_loss: 0.4851 - val_precision: 0.6319 - val_recall: 0.7734 - learning_rate: 1.0000e-04\n",
      "Epoch 20/20\n",
      "\u001b[1m1134/1134\u001b[0m \u001b[32m━━━━━━━━━━━━━━━━━━━━\u001b[0m\u001b[37m\u001b[0m \u001b[1m0s\u001b[0m 614ms/step - accuracy: 0.7644 - auc: 0.8503 - loss: 0.7474 - precision: 0.6444 - recall: 0.7610\n",
      "Epoch 20: val_auc did not improve from 0.85107\n",
      "\u001b[1m1134/1134\u001b[0m \u001b[32m━━━━━━━━━━━━━━━━━━━━\u001b[0m\u001b[37m\u001b[0m \u001b[1m923s\u001b[0m 800ms/step - accuracy: 0.7644 - auc: 0.8503 - loss: 0.7474 - precision: 0.6444 - recall: 0.7610 - val_accuracy: 0.7526 - val_auc: 0.8431 - val_loss: 0.4953 - val_precision: 0.6214 - val_recall: 0.7708 - learning_rate: 1.0000e-04\n"
     ]
    }
   ],
   "source": [
    "# Train the model\n",
    "batch_size = 32\n",
    "epochs = 20\n",
    "\n",
    "history = model.fit(\n",
    "    train_ds,  # Already batched\n",
    "    epochs=epochs,\n",
    "    validation_data=val_ds,  # Already batched\n",
    "    callbacks=callbacks,\n",
    "    class_weight=class_weight,  # Use the recalculated class_weight\n",
    "    verbose=1,\n",
    ")"
   ]
  },
  {
   "cell_type": "markdown",
   "id": "038c2688",
   "metadata": {},
   "source": [
    "## 3. Evaluate Model Performance"
   ]
  },
  {
   "cell_type": "code",
   "execution_count": 9,
   "id": "0ab32441",
   "metadata": {},
   "outputs": [
    {
     "data": {
      "image/png": "[encoded data removed]",
      "text/plain": [
       "<Figure size 1500x500 with 2 Axes>"
      ]
     },
     "metadata": {},
     "output_type": "display_data"
    }
   ],
   "source": [
    "# Plot training history\n",
    "def plot_training_history(history):\n",
    "    fig, (ax1, ax2) = plt.subplots(1, 2, figsize=(15, 5))\n",
    "\n",
    "    # Plot accuracy\n",
    "    ax1.plot(history.history[\"accuracy\"])\n",
    "    ax1.plot(history.history[\"val_accuracy\"])\n",
    "    ax1.set_title(\"Model Accuracy\")\n",
    "    ax1.set_ylabel(\"Accuracy\")\n",
    "    ax1.set_xlabel(\"Epoch\")\n",
    "    ax1.legend([\"Train\", \"Validation\"], loc=\"lower right\")\n",
    "    ax1.grid(True)\n",
    "\n",
    "    # Plot loss\n",
    "    ax2.plot(history.history[\"loss\"])\n",
    "    ax2.plot(history.history[\"val_loss\"])\n",
    "    ax2.set_title(\"Model Loss\")\n",
    "    ax2.set_ylabel(\"Loss\")\n",
    "    ax2.set_xlabel(\"Epoch\")\n",
    "    ax2.legend([\"Train\", \"Validation\"], loc=\"upper right\")\n",
    "    ax2.grid(True)\n",
    "\n",
    "    plt.tight_layout()\n",
    "    plt.show()\n",
    "\n",
    "\n",
    "# Plot training history\n",
    "plot_training_history(history)"
   ]
  },
  {
   "cell_type": "code",
   "execution_count": null,
   "id": "39d19492",
   "metadata": {},
   "outputs": [
    {
     "name": "stdout",
     "output_type": "stream",
     "text": [
      "Evaluating on test set using test_ds...\n",
      "Test Loss: 0.4788\n",
      "Test Accuracy: 0.0000\n",
      "Test AUC: 0.0000\n",
      "Test Precision: 0.0000\n",
      "Test Recall (Sensitivity): 0.0000\n",
      "Making predictions on test set using test_ds...\n",
      "\n",
      "Classification Report:\n",
      "              precision    recall  f1-score   support\n",
      "\n",
      "Non-Melanoma       0.85      0.78      0.81      7268\n",
      "    Melanoma       0.65      0.75      0.70      4073\n",
      "\n",
      "    accuracy                           0.77     11341\n",
      "   macro avg       0.75      0.76      0.75     11341\n",
      "weighted avg       0.78      0.77      0.77     11341\n",
      "\n",
      "\n",
      "Confusion Matrix:\n",
      "[[5639 1629]\n",
      " [1031 3042]]\n"
     ]
    }
   ],
   "source": [
    "print(\"Evaluating on test set using test_ds...\")\n",
    "results = model.evaluate(test_ds, verbose=0)\n",
    "metric_names = model.metrics_names\n",
    "results_dict = dict(zip(metric_names, results))\n",
    "\n",
    "test_loss = results_dict.get(\"loss\", 0.0)\n",
    "test_acc = results_dict.get(\"accuracy\", 0.0)\n",
    "test_auc = results_dict.get(\"auc\", 0.0)\n",
    "test_precision = results_dict.get(\"precision\", 0.0)\n",
    "test_recall = results_dict.get(\"recall\", 0.0)\n",
    "\n",
    "print(f\"Test Loss: {test_loss:.4f}\")\n",
    "print(f\"Test Accuracy: {test_acc:.4f}\")\n",
    "print(f\"Test AUC: {test_auc:.4f}\")\n",
    "print(f\"Test Precision: {test_precision:.4f}\")\n",
    "print(f\"Test Recall (Sensitivity): {test_recall:.4f}\")\n",
    "\n",
    "# Make predictions on test set\n",
    "print(\"Making predictions on test set using test_ds...\")\n",
    "y_pred_proba_list = []\n",
    "y_true_test_list = []\n",
    "for images_batch, labels_batch in test_ds:\n",
    "    y_pred_proba_list.append(model.predict_on_batch(images_batch))\n",
    "    y_true_test_list.append(labels_batch.numpy())\n",
    "\n",
    "y_pred_proba = np.concatenate(y_pred_proba_list, axis=0)\n",
    "y_true_test = np.concatenate(\n",
    "    y_true_test_list, axis=0\n",
    ").flatten()  # Flatten if labels are (batch,1)\n",
    "y_pred = (y_pred_proba > 0.5).astype(int).flatten()\n",
    "\n",
    "# Print classification report\n",
    "print(\"\\nClassification Report:\")\n",
    "print(\n",
    "    classification_report(\n",
    "        y_true_test, y_pred, target_names=[\"Non-Melanoma\", \"Melanoma\"]\n",
    "    )\n",
    ")\n",
    "\n",
    "# Print confusion matrix\n",
    "conf_matrix = confusion_matrix(y_true_test, y_pred)\n",
    "print(\"\\nConfusion Matrix:\")\n",
    "print(conf_matrix)\n"
   ]
  },
  {
   "cell_type": "code",
   "execution_count": 14,
   "id": "158c00a1",
   "metadata": {},
   "outputs": [
    {
     "data": {
      "image/png": "[encoded data removed]",
      "text/plain": [
       "<Figure size 800x800 with 1 Axes>"
      ]
     },
     "metadata": {},
     "output_type": "display_data"
    }
   ],
   "source": [
    "# Plot ROC curve\n",
    "fpr, tpr, _ = roc_curve(y_true_test, y_pred_proba)\n",
    "roc_auc = auc(fpr, tpr)\n",
    "\n",
    "plt.figure(figsize=(8, 8))\n",
    "plt.plot(fpr, tpr, color=\"darkorange\", lw=2, label=f\"ROC curve (area = {roc_auc:.2f})\")\n",
    "plt.plot([0, 1], [0, 1], color=\"navy\", lw=2, linestyle=\"--\")\n",
    "plt.xlim([0.0, 1.0])\n",
    "plt.ylim([0.0, 1.05])\n",
    "plt.xlabel(\"False Positive Rate\")\n",
    "plt.ylabel(\"True Positive Rate\")\n",
    "plt.title(\"Receiver Operating Characteristic (ROC)\")\n",
    "plt.legend(loc=\"lower right\")\n",
    "plt.grid(True)\n",
    "plt.show()"
   ]
  },
  {
   "cell_type": "code",
   "execution_count": 15,
   "id": "ef9709c2",
   "metadata": {},
   "outputs": [
    {
     "ename": "NameError",
     "evalue": "name 'X_test' is not defined",
     "output_type": "error",
     "traceback": [
      "\u001b[31m---------------------------------------------------------------------------\u001b[39m",
      "\u001b[31mNameError\u001b[39m                                 Traceback (most recent call last)",
      "\u001b[36mCell\u001b[39m\u001b[36m \u001b[39m\u001b[32mIn[15]\u001b[39m\u001b[32m, line 39\u001b[39m\n\u001b[32m     35\u001b[39m     plt.show()\n\u001b[32m     38\u001b[39m \u001b[38;5;66;03m# Visualize predictions\u001b[39;00m\n\u001b[32m---> \u001b[39m\u001b[32m39\u001b[39m visualize_predictions(\u001b[43mX_test\u001b[49m, y_true_test, y_pred, y_pred_proba)\n",
      "\u001b[31mNameError\u001b[39m: name 'X_test' is not defined"
     ]
    }
   ],
   "source": [
    "# Visualize some predictions\n",
    "def visualize_predictions(X, y_true, y_pred, y_pred_proba, num_samples=8):\n",
    "    # Select random samples\n",
    "    indices = np.random.choice(\n",
    "        range(len(y_true)), min(num_samples, len(y_true)), replace=False\n",
    "    )\n",
    "\n",
    "    # Create figure\n",
    "    fig, axes = plt.subplots(2, 4, figsize=(16, 8))\n",
    "    axes = axes.flatten()\n",
    "\n",
    "    for i, idx in enumerate(indices):\n",
    "        if i >= num_samples:\n",
    "            break\n",
    "\n",
    "        # Get image and labels\n",
    "        img = X[idx]\n",
    "        true_label = y_true[idx]\n",
    "        pred_label = y_pred[idx]\n",
    "        prob = y_pred_proba[idx][0]\n",
    "\n",
    "        # Determine text color based on prediction correctness\n",
    "        color = \"green\" if true_label == pred_label else \"red\"\n",
    "\n",
    "        # Plot image\n",
    "        axes[i].imshow(img, cmap=\"gray\")\n",
    "        axes[i].set_title(\n",
    "            f\"True: {'Melanoma' if true_label == 1 else 'Non-Melanoma'}\\n\"\n",
    "            + f\"Pred: {'Melanoma' if pred_label == 1 else 'Non-Melanoma'} ({prob:.3f})\",\n",
    "            color=color,\n",
    "        )\n",
    "        axes[i].axis(\"off\")\n",
    "\n",
    "    plt.tight_layout()\n",
    "    plt.show()\n",
    "\n",
    "\n",
    "# Visualize predictions\n",
    "visualize_predictions(X_test, y_true_test, y_pred, y_pred_proba)"
   ]
  },
  {
   "cell_type": "markdown",
   "id": "7fae68e3",
   "metadata": {},
   "source": [
    "## 4. Save Model and Results"
   ]
  },
  {
   "cell_type": "code",
   "execution_count": 16,
   "id": "656ba72f",
   "metadata": {},
   "outputs": [
    {
     "name": "stderr",
     "output_type": "stream",
     "text": [
      "WARNING:absl:You are saving your model as an HDF5 file via `model.save()` or `keras.saving.save_model(model)`. This file format is considered legacy. We recommend using instead the native Keras format, e.g. `model.save('my_model.keras')` or `keras.saving.save_model(model, 'my_model.keras')`. \n"
     ]
    },
    {
     "name": "stdout",
     "output_type": "stream",
     "text": [
      "Model saved to ../working/melanoma_revisited_final_2.h5\n",
      "Results saved to ../working/model_results.json\n"
     ]
    }
   ],
   "source": [
    "# Save model\n",
    "model_path = \"../working/melanoma_revisited_final_2.h5\"\n",
    "model.save(model_path)\n",
    "print(f\"Model saved to {model_path}\")\n",
    "\n",
    "# Save test results\n",
    "results = {\n",
    "    \"accuracy\": float(test_acc),\n",
    "    \"auc\": float(test_auc),\n",
    "    \"loss\": float(test_loss),\n",
    "}\n",
    "\n",
    "with open(\"../working/model_results.json\", \"w\") as f:\n",
    "    json.dump(results, f)\n",
    "print(\"Results saved to ../working/model_results.json\")"
   ]
  }
 ],
 "metadata": {
  "kernelspec": {
   "display_name": ".venv",
   "language": "python",
   "name": "python3"
  },
  "language_info": {
   "codemirror_mode": {
    "name": "ipython",
    "version": 3
   },
   "file_extension": ".py",
   "mimetype": "text/x-python",
   "name": "python",
   "nbconvert_exporter": "python",
   "pygments_lexer": "ipython3",
   "version": "3.12.10"
  }
 },
 "nbformat": 4,
 "nbformat_minor": 5
}
