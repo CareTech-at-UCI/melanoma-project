{
 "cells": [
  {
   "cell_type": "markdown",
   "metadata": {},
   "source": [
    "### CNN Model Testing"
   ]
  },
  {
   "cell_type": "markdown",
   "metadata": {},
   "source": [
    "#### Imports"
   ]
  },
  {
   "cell_type": "code",
   "execution_count": null,
   "metadata": {},
   "outputs": [],
   "source": [
    "import tensorflow as tf\n",
    "import pandas as pd\n",
    "from tensorflow.keras.models import load_model\n",
    "import matplotlib.pyplot as plt\n",
    "from sklearn.metrics import confusion_matrix, accuracy_score, f1_score"
   ]
  },
  {
   "cell_type": "markdown",
   "metadata": {},
   "source": [
    "#### Load Dataset"
   ]
  },
  {
   "cell_type": "code",
   "execution_count": null,
   "metadata": {},
   "outputs": [],
   "source": [
    "# Load and preprocess images\n",
    "def load_image(image_name, label):\n",
    "    image_path = tf.strings.join([image_folder, '/', image_name])\n",
    "    image = tf.io.read_file(image_path)\n",
    "    image = tf.image.decode_jpeg(image, channels=3)\n",
    "    image = tf.image.resize(image, [224, 224])  # Resize to match the input shape of the CNN\n",
    "    image = image / 255.0  # Normalize pixel values to [0, 1]\n",
    "    return image, label\n",
    "\n",
    "# Create a TensorFlow dataset from a DataFrame\n",
    "def create_tf_dataset(dataframe, image_folder, batch_size=32):\n",
    "    image_names = dataframe['image'].values\n",
    "    labels = dataframe['MEL'].values\n",
    "    dataset = tf.data.Dataset.from_tensor_slices((image_names, labels))\n",
    "    dataset = dataset.map(load_image, num_parallel_calls=tf.data.AUTOTUNE)\n",
    "    dataset = dataset.shuffle(buffer_size=1000).batch(batch_size).prefetch(buffer_size=tf.data.AUTOTUNE)\n",
    "    return dataset\n",
    "\n",
    "csv_path = 'preprocessed_dataset/ISIC_2019_Test_Balanced.csv'\n",
    "image_folder = 'preprocessed_dataset'\n",
    "\n",
    "# Load the CSV file\n",
    "df = pd.read_csv(csv_path)\n",
    "df['image'] = df['image'] + '.jpg'\n",
    "print(f\"Loaded {len(df)} images from {csv_path}\")\n",
    "\n",
    "# Create TensorFlow dataset\n",
    "dataset = create_tf_dataset(df, image_folder)\n",
    "\n",
    "print(\"Dataset loaded and preprocessed.\")"
   ]
  },
  {
   "cell_type": "markdown",
   "metadata": {},
   "source": [
    "#### Preview Dataset"
   ]
  },
  {
   "cell_type": "code",
   "execution_count": null,
   "metadata": {},
   "outputs": [],
   "source": [
    "# Preview a batch of images and labels\n",
    "def preview_dataset(dataset, num_images=5):\n",
    "    for images, labels in dataset.take(1):  # Take one batch\n",
    "        plt.figure(figsize=(15, 15))\n",
    "        for i in range(num_images):\n",
    "            ax = plt.subplot(1, num_images, i + 1)\n",
    "            plt.imshow(images[i].numpy())\n",
    "            plt.title(f\"Label: {int(labels[i].numpy())}\")\n",
    "            plt.axis(\"off\")\n",
    "        plt.show()\n",
    "\n",
    "# Preview the testing dataset\n",
    "print(\"Previewing testing dataset:\")\n",
    "preview_dataset(dataset)"
   ]
  },
  {
   "cell_type": "markdown",
   "metadata": {},
   "source": [
    "#### Import model"
   ]
  },
  {
   "cell_type": "code",
   "execution_count": null,
   "metadata": {},
   "outputs": [],
   "source": [
    "model_path = '../model_training/best_model.h5'\n",
    "model = load_model(model_path)\n",
    "\n",
    "model.summary()"
   ]
  },
  {
   "cell_type": "markdown",
   "metadata": {},
   "source": [
    "#### Evaluate CNN model"
   ]
  },
  {
   "cell_type": "code",
   "execution_count": null,
   "metadata": {},
   "outputs": [],
   "source": [
    "y_true = []\n",
    "y_pred = []\n",
    "\n",
    "for images, labels in dataset:\n",
    "    y_true.extend(labels.numpy())  # True labels\n",
    "    predictions = model.predict(images)  # Predicted probabilities\n",
    "    y_pred.extend((predictions > 0.5).astype(int).flatten())  # Convert probabilities to binary predictions\n",
    "\n",
    "# Calculate metrics\n",
    "conf_matrix = confusion_matrix(y_true, y_pred)\n",
    "accuracy = accuracy_score(y_true, y_pred)\n",
    "f1 = f1_score(y_true, y_pred)\n",
    "\n",
    "# Print results\n",
    "print(\"Confusion Matrix:\")\n",
    "print(conf_matrix)\n",
    "print(f\"Accuracy: {accuracy:.4f}\")\n",
    "print(f\"F1 Score: {f1:.4f}\")"
   ]
  }
 ],
 "metadata": {
  "kernelspec": {
   "display_name": "melanoma",
   "language": "python",
   "name": "python3"
  },
  "language_info": {
   "codemirror_mode": {
    "name": "ipython",
    "version": 3
   },
   "file_extension": ".py",
   "mimetype": "text/x-python",
   "name": "python",
   "nbconvert_exporter": "python",
   "pygments_lexer": "ipython3",
   "version": "3.11.0"
  },
  "orig_nbformat": 4
 },
 "nbformat": 4,
 "nbformat_minor": 2
}
